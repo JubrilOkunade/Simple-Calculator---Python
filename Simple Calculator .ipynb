{
 "cells": [
  {
   "cell_type": "markdown",
   "id": "a3e40e45",
   "metadata": {},
   "source": [
    "# Introduction\n",
    "\n",
    "I created a \"simple\" calculator using python."
   ]
  },
  {
   "cell_type": "code",
   "execution_count": 3,
   "id": "6712cab4",
   "metadata": {},
   "outputs": [],
   "source": [
    "# Calculator logo.\n",
    "logo = \"\"\"\n",
    " _____________________\n",
    "|  _________________  |\n",
    "| | Pythonista   0. | |  .----------------.  .----------------.  .----------------.  .----------------. \n",
    "| |_________________| | | .--------------. || .--------------. || .--------------. || .--------------. |\n",
    "|  ___ ___ ___   ___  | | |     ______   | || |      __      | || |   _____      | || |     ______   | |\n",
    "| | 7 | 8 | 9 | | + | | | |   .' ___  |  | || |     /  \\     | || |  |_   _|     | || |   .' ___  |  | |\n",
    "| |___|___|___| |___| | | |  / .'   \\_|  | || |    / /\\ \\    | || |    | |       | || |  / .'   \\_|  | |\n",
    "| | 4 | 5 | 6 | | - | | | |  | |         | || |   / ____ \\   | || |    | |   _   | || |  | |         | |\n",
    "| |___|___|___| |___| | | |  \\ `.___.'\\  | || | _/ /    \\ \\_ | || |   _| |__/ |  | || |  \\ `.___.'\\  | |\n",
    "| | 1 | 2 | 3 | | x | | | |   `._____.'  | || ||____|  |____|| || |  |________|  | || |   `._____.'  | |\n",
    "| |___|___|___| |___| | | |              | || |              | || |              | || |              | |\n",
    "| | . | 0 | = | | / | | | '--------------' || '--------------' || '--------------' || '--------------' |\n",
    "| |___|___|___| |___| |  '----------------'  '----------------'  '----------------'  '----------------' \n",
    "|_____________________|\n",
    "\"\"\"\n"
   ]
  },
  {
   "cell_type": "code",
   "execution_count": 4,
   "id": "cb08845d",
   "metadata": {},
   "outputs": [],
   "source": [
    "# bring in calculator functions (add,subtract,multiply and divide).\n",
    "\n",
    "# add \n",
    "def add(n1, n2):\n",
    "  return n1+n2\n",
    "\n",
    "# subtract \n",
    "def subtract(n1, n2):\n",
    "  return n1-n2\n",
    "\n",
    "# multiply \n",
    "def multiply(n1, n2):\n",
    "  return n1*n2\n",
    "\n",
    "# divide \n",
    "def divide(n1, n2):\n",
    "  return n1/n2"
   ]
  },
  {
   "cell_type": "code",
   "execution_count": 5,
   "id": "3257fe4c",
   "metadata": {},
   "outputs": [],
   "source": [
    "# put calculator functions in a dictionary called calc_dict\n",
    "calc_dict ={'+':add,'-':subtract,'*':multiply,'/':divide}"
   ]
  },
  {
   "cell_type": "code",
   "execution_count": 6,
   "id": "fdd2c2fe",
   "metadata": {},
   "outputs": [],
   "source": [
    "# write a function for the calculator operations.\n",
    "def cal1():\n",
    "# print logo.\n",
    "  print(logo)\n",
    "# ask for first number input and convert it to a float.\n",
    "  num1 =float(input('What is the first number? '))\n",
    "  # create a loop to print all symbols(keys) from calc_dict \n",
    "  for key in calc_dict:\n",
    "    print(key)\n",
    "# ask for symbol input.\n",
    "  symbol =input('Pick an operator : ')\n",
    "# ask for second number input.\n",
    "  num2 =float(input('What is the next number? '))\n",
    "# calculate the first operation\n",
    "  calc_sym =calc_dict[symbol]\n",
    "  f_answer=calc_sym(num1, num2)\n",
    "# print out the first answer.\n",
    "  print(f'{num1} {symbol} {num2} = {f_answer}')\n",
    "\n",
    "# create a while loop to allow for reoccuring operations\n",
    "  calc_end =False\n",
    "  while not calc_end:\n",
    "    cont_1 =input(f'Type \"y\" to continue calculating with {f_answer}, or type \"n\" to start again: ').lower()\n",
    "    if cont_1=='y':\n",
    "      symbol =input('Pick an another operator : ')\n",
    "      num3 =float(input('What is the next number? '))\n",
    "      calc_sym =calc_dict[symbol]\n",
    "      new_ans =calc_sym(f_answer, num3)\n",
    "      print(f'{f_answer} {symbol} {num3} = {new_ans}')\n",
    "      f_answer=new_ans\n",
    "    else:\n",
    "      calc_end =True\n",
    "      cal1() \n"
   ]
  },
  {
   "cell_type": "code",
   "execution_count": null,
   "id": "289e4eb5",
   "metadata": {},
   "outputs": [
    {
     "name": "stdout",
     "output_type": "stream",
     "text": [
      "\n",
      " _____________________\n",
      "|  _________________  |\n",
      "| | Pythonista   0. | |  .----------------.  .----------------.  .----------------.  .----------------. \n",
      "| |_________________| | | .--------------. || .--------------. || .--------------. || .--------------. |\n",
      "|  ___ ___ ___   ___  | | |     ______   | || |      __      | || |   _____      | || |     ______   | |\n",
      "| | 7 | 8 | 9 | | + | | | |   .' ___  |  | || |     /  \\     | || |  |_   _|     | || |   .' ___  |  | |\n",
      "| |___|___|___| |___| | | |  / .'   \\_|  | || |    / /\\ \\    | || |    | |       | || |  / .'   \\_|  | |\n",
      "| | 4 | 5 | 6 | | - | | | |  | |         | || |   / ____ \\   | || |    | |   _   | || |  | |         | |\n",
      "| |___|___|___| |___| | | |  \\ `.___.'\\  | || | _/ /    \\ \\_ | || |   _| |__/ |  | || |  \\ `.___.'\\  | |\n",
      "| | 1 | 2 | 3 | | x | | | |   `._____.'  | || ||____|  |____|| || |  |________|  | || |   `._____.'  | |\n",
      "| |___|___|___| |___| | | |              | || |              | || |              | || |              | |\n",
      "| | . | 0 | = | | / | | | '--------------' || '--------------' || '--------------' || '--------------' |\n",
      "| |___|___|___| |___| |  '----------------'  '----------------'  '----------------'  '----------------' \n",
      "|_____________________|\n",
      "\n",
      "What is the first number? 90\n",
      "+\n",
      "-\n",
      "*\n",
      "/\n",
      "Pick an operator : *\n",
      "What is the next number? 2\n",
      "90.0 * 2.0 = 180.0\n"
     ]
    }
   ],
   "source": [
    " cal1() "
   ]
  }
 ],
 "metadata": {
  "kernelspec": {
   "display_name": "Python 3 (ipykernel)",
   "language": "python",
   "name": "python3"
  },
  "language_info": {
   "codemirror_mode": {
    "name": "ipython",
    "version": 3
   },
   "file_extension": ".py",
   "mimetype": "text/x-python",
   "name": "python",
   "nbconvert_exporter": "python",
   "pygments_lexer": "ipython3",
   "version": "3.9.7"
  }
 },
 "nbformat": 4,
 "nbformat_minor": 5
}
